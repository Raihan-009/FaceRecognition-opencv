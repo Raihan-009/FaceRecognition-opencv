{
  "nbformat": 4,
  "nbformat_minor": 0,
  "metadata": {
    "colab": {
      "provenance": [],
      "authorship_tag": "ABX9TyO/X7BQBJoU0CaskyCJYADb",
      "include_colab_link": true
    },
    "kernelspec": {
      "name": "python3",
      "display_name": "Python 3"
    },
    "language_info": {
      "name": "python"
    }
  },
  "cells": [
    {
      "cell_type": "markdown",
      "metadata": {
        "id": "view-in-github",
        "colab_type": "text"
      },
      "source": [
        "<a href=\"https://colab.research.google.com/github/Raihan-009/FaceRecognition-opencv/blob/main/FaceRecognition.ipynb\" target=\"_parent\"><img src=\"https://colab.research.google.com/assets/colab-badge.svg\" alt=\"Open In Colab\"/></a>"
      ]
    },
    {
      "cell_type": "code",
      "execution_count": 1,
      "metadata": {
        "colab": {
          "base_uri": "https://localhost:8080/"
        },
        "id": "QmI4s911HpSO",
        "outputId": "e47e1993-5eba-468f-e8a4-3cec97fec9b1"
      },
      "outputs": [
        {
          "output_type": "stream",
          "name": "stdout",
          "text": [
            "Hello World!\n"
          ]
        }
      ],
      "source": [
        "print(\"Hello World!\")"
      ]
    },
    {
      "cell_type": "markdown",
      "source": [
        "**Loading Dataset**"
      ],
      "metadata": {
        "id": "P98PwwxBSOsz"
      }
    },
    {
      "cell_type": "code",
      "source": [
        "from PIL import Image\n",
        "import cv2\n",
        "import numpy as np\n",
        "from google.colab.patches import cv2_imshow\n",
        "from google.colab import drive\n",
        "drive.mount('/content/drive')"
      ],
      "metadata": {
        "id": "e0ZwJHbIHy9p",
        "colab": {
          "base_uri": "https://localhost:8080/"
        },
        "outputId": "a6f9615c-ab6d-4a28-fb27-87d4a2cecce8"
      },
      "execution_count": 2,
      "outputs": [
        {
          "output_type": "stream",
          "name": "stdout",
          "text": [
            "Mounted at /content/drive\n"
          ]
        }
      ]
    },
    {
      "cell_type": "code",
      "source": [
        "import zipfile\n",
        "path = '/content/drive/MyDrive/Datasets for FR/yalefaces.zip'\n",
        "zip_object = zipfile.ZipFile(file=path, mode='r')\n",
        "zip_object.extractall('./')\n",
        "zip_object.close()"
      ],
      "metadata": {
        "id": "KKXE173hKQZa"
      },
      "execution_count": 3,
      "outputs": []
    },
    {
      "cell_type": "markdown",
      "source": [
        "**Data Pre-processing**"
      ],
      "metadata": {
        "id": "CCLy_uQnSZ5_"
      }
    },
    {
      "cell_type": "code",
      "source": [
        "import os\n",
        "print(os.listdir('/content/yalefaces/train'))"
      ],
      "metadata": {
        "id": "zWFu73oKOChn",
        "colab": {
          "base_uri": "https://localhost:8080/"
        },
        "outputId": "57e14934-cf03-4719-faaa-c5d0aafed582"
      },
      "execution_count": 4,
      "outputs": [
        {
          "output_type": "stream",
          "name": "stdout",
          "text": [
            "['subject04.happy.gif', 'subject04.sad.gif', 'subject13.glasses.gif', 'subject08.sleepy.gif', 'subject04.wink.gif', 'subject10.surprised.gif', 'subject06.noglasses.gif', 'subject04.centerlight.gif', 'subject04.sleepy.gif', 'subject05.leftlight.gif', 'subject11.normal.gif', 'subject15.glasses.gif', 'subject06.sad.gif', 'subject02.rightlight.gif', 'subject12.surprised.gif', 'subject02.happy.gif', 'subject10.noglasses.gif', 'subject14.surprised.gif', 'subject09.surprised.gif', 'subject03.happy.gif', 'subject07.surprised.gif', 'subject07.noglasses.gif', 'subject13.rightlight.gif', 'subject05.normal.gif', 'subject09.glasses.gif', 'subject15.sleepy.gif', 'subject01.leftlight.gif', 'subject12.happy.gif', 'subject07.sleepy.gif', 'subject08.wink.gif', 'subject13.leftlight.gif', 'subject14.glasses.gif', 'subject14.sleepy.gif', 'subject15.happy.gif', 'subject11.rightlight.gif', 'subject10.glasses.gif', 'subject01.rightlight.gif', 'subject06.wink.gif', 'subject01.glasses.gif', 'subject12.sad.gif', 'subject14.wink.gif', 'subject05.glasses.gif', 'subject04.rightlight.gif', 'subject06.normal.gif', 'subject07.centerlight.gif', 'subject12.noglasses.gif', 'subject06.glasses.gif', 'subject10.wink.gif', 'subject15.centerlight.gif', 'subject03.noglasses.gif', 'subject06.centerlight.gif', 'subject12.glasses.gif', 'subject08.leftlight.gif', 'subject11.noglasses.gif', 'subject05.wink.gif', 'subject08.noglasses.gif', 'subject02.normal.gif', 'subject07.glasses.gif', 'subject13.normal.gif', 'subject08.centerlight.gif', 'subject14.leftlight.gif', 'subject13.surprised.gif', 'subject09.noglasses.gif', 'subject15.normal.gif', 'subject09.wink.gif', 'subject01.sad.gif', 'subject12.sleepy.gif', 'subject13.noglasses.gif', 'subject01.surprised.gif', 'subject01.normal.gif', 'subject04.glasses.gif', 'subject05.rightlight.gif', 'subject03.wink.gif', 'subject04.noglasses.gif', 'subject13.wink.gif', 'subject07.sad.gif', 'subject01.sleepy.gif', 'subject05.centerlight.gif', 'subject07.normal.gif', 'subject11.sad.gif', 'subject12.centerlight.gif', 'subject03.surprised.gif', 'subject06.surprised.gif', 'subject08.glasses.gif', 'subject11.leftlight.gif', 'subject09.normal.gif', 'subject15.wink.gif', 'subject02.sad.gif', 'subject09.leftlight.gif', 'subject14.noglasses.gif', 'subject04.normal.gif', 'subject08.happy.gif', 'subject10.normal.gif', 'subject13.happy.gif', 'subject09.centerlight.gif', 'subject02.glasses.gif', 'subject15.noglasses.gif', 'subject12.wink.gif', 'subject10.leftlight.gif', 'subject11.sleepy.gif', 'subject01.wink.gif', 'subject07.rightlight.gif', 'subject13.centerlight.gif', 'subject07.wink.gif', 'subject01.noglasses.gif', 'subject10.sleepy.gif', 'subject08.surprised.gif', 'subject03.sleepy.gif', 'subject03.rightlight.gif', 'subject05.happy.gif', 'subject14.happy.gif', 'subject06.sleepy.gif', 'subject05.sad.gif', 'subject03.normal.gif', 'subject05.noglasses.gif', 'subject15.surprised.gif', 'subject03.centerlight.gif', 'subject15.leftlight.gif', 'subject02.noglasses.gif', 'subject14.centerlight.gif', 'subject06.rightlight.gif', 'subject09.happy.gif', 'subject02.surprised.gif', 'subject12.leftlight.gif', 'subject10.rightlight.gif', 'subject02.wink.gif', 'subject10.happy.gif', 'subject08.sad.gif', 'subject11.centerlight.gif', 'subject11.wink.gif', 'subject02.sleepy.gif', 'subject14.rightlight.gif', 'subject09.sleepy.gif', 'subject11.surprised.gif', 'subject03.sad.gif']\n"
          ]
        }
      ]
    },
    {
      "cell_type": "code",
      "source": [
        "def get_image_data():\n",
        "  paths = [os.path.join('/content/yalefaces/train', f) for f in os.listdir('/content/yalefaces/train')]\n",
        "  # print(paths)\n",
        "  faces = []\n",
        "  ids = []\n",
        "  for path in paths:\n",
        "    # print(path)\n",
        "    image = Image.open(path).convert('L') ## converting into grayscale image\n",
        "    # print(type(image))\n",
        "    image_np = np.array(image, 'uint8')\n",
        "    # print(type(image_np))\n",
        "    id = int(os.path.split(path)[1].split('.')[0].replace('subject', \"\"))\n",
        "    # print(id)\n",
        "    ids.append(id)\n",
        "    faces.append(image_np)\n",
        "\n",
        "  return np.array(ids), faces\n"
      ],
      "metadata": {
        "id": "70KwFx9HTduN"
      },
      "execution_count": 5,
      "outputs": []
    },
    {
      "cell_type": "code",
      "source": [
        "ids, faces = get_image_data()"
      ],
      "metadata": {
        "id": "HWuhIphbT6Nm"
      },
      "execution_count": 6,
      "outputs": []
    },
    {
      "cell_type": "code",
      "source": [
        "lbph_classifier = cv2.face.LBPHFaceRecognizer_create()\n",
        "lbph_classifier.train(faces, ids)\n",
        "lbph_classifier.write('lbph_classifier.yml')"
      ],
      "metadata": {
        "id": "7PmQs41C5VoC"
      },
      "execution_count": 14,
      "outputs": []
    },
    {
      "cell_type": "markdown",
      "source": [
        "**Recognizing Faces**"
      ],
      "metadata": {
        "id": "l-bZrbf88TRA"
      }
    },
    {
      "cell_type": "code",
      "source": [
        "lbph_face_classifier = cv2.face.LBPHFaceRecognizer_create()\n",
        "lbph_face_classifier.read('/content/lbph_classifier.yml')"
      ],
      "metadata": {
        "id": "fxNn9gd88JKh"
      },
      "execution_count": 15,
      "outputs": []
    },
    {
      "cell_type": "code",
      "source": [
        "test_image = '/content/yalefaces/test/subject01.gif'\n",
        "image = Image.open(test_image).convert('L')\n",
        "image_np = np.array(image, 'uint8')"
      ],
      "metadata": {
        "id": "R_8qRzXF81TL"
      },
      "execution_count": 29,
      "outputs": []
    },
    {
      "cell_type": "code",
      "source": [
        "prediction = lbph_face_classifier.predict(image_np)\n",
        "prediction"
      ],
      "metadata": {
        "colab": {
          "base_uri": "https://localhost:8080/"
        },
        "id": "c7WRFTRR9b44",
        "outputId": "a24b87fa-16fe-4972-c3ae-d957d8159d2e"
      },
      "execution_count": 30,
      "outputs": [
        {
          "output_type": "execute_result",
          "data": {
            "text/plain": [
              "(1, 22.62525404335563)"
            ]
          },
          "metadata": {},
          "execution_count": 30
        }
      ]
    },
    {
      "cell_type": "code",
      "source": [
        "expected_output = int(os.path.split(test_image)[1].split('.')[0].replace('subject', \"\"))\n",
        "expected_output"
      ],
      "metadata": {
        "colab": {
          "base_uri": "https://localhost:8080/"
        },
        "id": "1bdJP6539iqf",
        "outputId": "606ec443-9f6a-4f6f-ac5a-d436f4568c4e"
      },
      "execution_count": 31,
      "outputs": [
        {
          "output_type": "execute_result",
          "data": {
            "text/plain": [
              "1"
            ]
          },
          "metadata": {},
          "execution_count": 31
        }
      ]
    },
    {
      "cell_type": "code",
      "source": [
        "cv2.putText(image_np, 'Pred: ' + str(prediction[0]), (10,30), cv2.FONT_HERSHEY_COMPLEX, 1, (0,255,0))\n",
        "cv2.putText(image_np, 'Expt: ' + str(expected_output), (10,55), cv2.FONT_HERSHEY_COMPLEX, 1, (0,255,0))\n",
        "cv2_imshow(image_np)"
      ],
      "metadata": {
        "colab": {
          "base_uri": "https://localhost:8080/",
          "height": 260
        },
        "id": "kKl0luYo6sTQ",
        "outputId": "62ce0842-49c6-4451-96be-755be493a278"
      },
      "execution_count": 32,
      "outputs": [
        {
          "output_type": "display_data",
          "data": {
            "text/plain": [
              "<PIL.Image.Image image mode=L size=320x243>"
            ],
            "image/png": "[encoded data removed]"
          },
          "metadata": {}
        }
      ]
    }
  ]
}